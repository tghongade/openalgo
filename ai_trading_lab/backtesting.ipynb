{
 "cells": [
  {
   "cell_type": "markdown",
   "metadata": {},
   "source": [
    "# Backtesting AI vs Rule-based Strategy\n",
    "\n",
    "This notebook compares the performance of:\n",
    "- Your AI-driven signals (from `ai_signal_generation.py`)\n",
    "- Your rule-based signals (e.g., RSI/ATR rules)\n",
    "\n",
    "**Metrics:**\n",
    "- Win rate\n",
    "- Cumulative returns\n",
    "- Drawdown\n",
    "- Confusion matrix\n",
    "- Plots: equity curve, signal comparison\n"
   ]
  },
  {
   "cell_type": "code",
   "execution_count": null,
   "metadata": {},
   "outputs": [],
   "source": [
    "import pandas as pd\n",
    "import numpy as np\n",
    "import matplotlib.pyplot as plt\n"
   ]
  },
  {
   "cell_type": "markdown",
   "metadata": {},
   "source": [
    "## Load Data\n",
    "- AI signals from `ai_signals.csv`\n",
    "- Historical data with features and rule-based signals (from `data_prep.py` output)\n"
   ]
  },
  {
   "cell_type": "code",
   "execution_count": null,
   "metadata": {},
   "outputs": [],
   "source": [
    "ai_signals = pd.read_csv('ai_signals.csv', index_col=0, parse_dates=True)\n",
    "# For backtest, reload all historical data\n",
    "import glob\n",
    "data_files = glob.glob('data/*.csv')\n",
    "dfs = [pd.read_csv(f, index_col=0, parse_dates=True) for f in data_files]\n",
    "df = pd.concat(dfs)\n",
    "df = df.sort_index()\n"
   ]
  },
  {
   "cell_type": "markdown",
   "metadata": {},
   "source": [
    "## Rule-based Signal Example\n",
    "For demo: Entry if RSI > 60, Exit if RSI < 40. Modify as needed."
   ]
  },
  {
   "cell_type": "code",
   "execution_count": null,
   "metadata": {},
   "outputs": [],
   "source": [
    "df['rule_signal'] = (df['rsi_14'] > 60).astype(int)\n"
   ]
  },
  {
   "cell_type": "markdown",
   "metadata": {},
   "source": [
    "## Merge AI and Rule Signals\n",
    "Align both signals for comparison."
   ]
  },
  {
   "cell_type": "code",
   "execution_count": null,
   "metadata": {},
   "outputs": [],
   "source": [
    "df = df.reset_index()\n",
    "signals = pd.merge(df, ai_signals[['ai_signal','ai_signal_prob']], left_index=True, right_index=True, how='inner')\n",
    "signals = signals.dropna(subset=['close','rule_signal','ai_signal'])\n",
    "signals['next_close'] = signals['close'].shift(-1)\n",
    "signals['return'] = (signals['next_close'] - signals['close']) / signals['close']\n",
    "signals['ai_return'] = signals['return'] * signals['ai_signal']\n",
    "signals['rule_return'] = signals['return'] * signals['rule_signal']\n"
   ]
  },
  {
   "cell_type": "markdown",
   "metadata": {},
   "source": [
    "## Metrics\n",
    "- Win rate\n",
    "- Cumulative returns\n",
    "- Max drawdown\n"
   ]
  },
  {
   "cell_type": "code",
   "execution_count": null,
   "metadata": {},
   "outputs": [],
   "source": [
    "def max_drawdown(returns):\n",
    "    cum = (1 + returns).cumprod()\n",
    "    peak = cum.cummax()\n",
    "    dd = (cum - peak) / peak\n",
    "    return dd.min()\n",
    "\n",
    "ai_win_rate = (signals['ai_return'] > 0).mean()\n",
    "rule_win_rate = (signals['rule_return'] > 0).mean()\n",
    "ai_cum_return = (1 + signals['ai_return']).prod() - 1\n",
    "rule_cum_return = (1 + signals['rule_return']).prod() - 1\n",
    "ai_drawdown = max_drawdown(signals['ai_return'])\n",
    "rule_drawdown = max_drawdown(signals['rule_return'])\n",
    "print(f'AI Win Rate: {ai_win_rate:.2%}')\n",
    "print(f'Rule Win Rate: {rule_win_rate:.2%}')\n",
    "print(f'AI Cumulative Return: {ai_cum_return:.2%}')\n",
    "print(f'Rule Cumulative Return: {rule_cum_return:.2%}')\n",
    "print(f'AI Max Drawdown: {ai_drawdown:.2%}')\n",
    "print(f'Rule Max Drawdown: {rule_drawdown:.2%}')\n"
   ]
  },
  {
   "cell_type": "markdown",
   "metadata": {},
   "source": [
    "## Plots\n",
    "- Equity curves\n",
    "- Signal comparison\n"
   ]
  },
  {
   "cell_type": "code",
   "execution_count": null,
   "metadata": {},
   "outputs": [],
   "source": [
    "signals['ai_equity'] = (1 + signals['ai_return']).cumprod()\n",
    "signals['rule_equity'] = (1 + signals['rule_return']).cumprod()\n",
    "plt.figure(figsize=(12,6))\n",
    "plt.plot(signals['ai_equity'], label='AI Equity Curve')\n",
    "plt.plot(signals['rule_equity'], label='Rule-based Equity Curve')\n",
    "plt.legend()\n",
    "plt.title('Equity Curve Comparison')\n",
    "plt.show()\n"
   ]
  }
 ],
 "metadata": {
  "kernelspec": {
   "display_name": "Python 3",
   "language": "python",
   "name": "python3"
  },
  "language_info": {
   "name": "python",
   "version": "3.8"
  }
 },
 "nbformat": 4,
 "nbformat_minor": 2
}
